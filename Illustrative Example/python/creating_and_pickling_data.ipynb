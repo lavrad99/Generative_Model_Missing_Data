{
 "cells": [
  {
   "cell_type": "code",
   "execution_count": 1,
   "id": "b10cb92e",
   "metadata": {},
   "outputs": [],
   "source": [
    "import numpy as np\n",
    "import mat73\n",
    "import scipy\n",
    "from sklearn.cluster import AgglomerativeClustering\n",
    "from scipy.cluster.hierarchy import linkage\n",
    "from scipy.cluster.hierarchy import dendrogram\n",
    "from scipy.cluster.hierarchy import fcluster\n",
    "from matplotlib import pyplot as plt\n",
    "from scipy.spatial.distance import pdist\n",
    "import torch\n",
    "import pandas as pd\n",
    "import pickle\n",
    "from sklearn.impute import SimpleImputer\n",
    "from sklearn.linear_model import ElasticNet"
   ]
  },
  {
   "cell_type": "code",
   "execution_count": 2,
   "id": "4728a000",
   "metadata": {},
   "outputs": [],
   "source": [
    "my_directory = ''"
   ]
  },
  {
   "cell_type": "code",
   "execution_count": 3,
   "id": "a9c502ef",
   "metadata": {},
   "outputs": [],
   "source": [
    "df = mat73.loadmat('workspace13d.mat')"
   ]
  },
  {
   "cell_type": "code",
   "execution_count": 11,
   "id": "03b568a5",
   "metadata": {},
   "outputs": [],
   "source": [
    "X_nIDPs = np.concatenate((np.concatenate((df['vars'] , df['sex12'].reshape(df['sex12'].shape[0],1)) , axis = 1) ,\n",
    "                          df['age1'].reshape(df['age1'].shape[0],1)**2) , axis = 1)"
   ]
  },
  {
   "cell_type": "code",
   "execution_count": 17,
   "id": "f815776f",
   "metadata": {},
   "outputs": [],
   "source": [
    "#We make up names for our age and sex variables\n",
    "\n",
    "nIDP_names =np.concatenate((np.array(df['varsHeader']) , np.array(['sex','age_squared'])))"
   ]
  },
  {
   "cell_type": "code",
   "execution_count": 18,
   "id": "451fdf0f",
   "metadata": {},
   "outputs": [],
   "source": [
    "#We make up names for our age and sex variables\n",
    "\n",
    "nIDP_numbers = np.concatenate((np.array(df['varsVARS']) , np.array(['0-0.0','1-0.0'])))"
   ]
  },
  {
   "cell_type": "code",
   "execution_count": 19,
   "id": "ec7034fc",
   "metadata": {},
   "outputs": [],
   "source": [
    "miss_thresh = 0.4"
   ]
  },
  {
   "cell_type": "code",
   "execution_count": 20,
   "id": "0927106d",
   "metadata": {},
   "outputs": [],
   "source": [
    "vars_analysis_indic =  np.logical_and(np.isnan(X_nIDPs).mean(axis = 0) <= miss_thresh , np.nanstd(X_nIDPs , axis = 0) > 0)"
   ]
  },
  {
   "cell_type": "code",
   "execution_count": 21,
   "id": "d820814e",
   "metadata": {},
   "outputs": [
    {
     "data": {
      "text/plain": [
       "14502"
      ]
     },
     "execution_count": 21,
     "metadata": {},
     "output_type": "execute_result"
    }
   ],
   "source": [
    "vars_analysis_indic.sum()"
   ]
  },
  {
   "cell_type": "code",
   "execution_count": 22,
   "id": "fdcb03c5",
   "metadata": {},
   "outputs": [],
   "source": [
    "X_nIDPs_analysis = X_nIDPs[: , vars_analysis_indic]"
   ]
  },
  {
   "cell_type": "code",
   "execution_count": 23,
   "id": "3b03261c",
   "metadata": {},
   "outputs": [],
   "source": [
    "nIDP_names_analysis = nIDP_names[vars_analysis_indic]"
   ]
  },
  {
   "cell_type": "code",
   "execution_count": 24,
   "id": "cfc7536f",
   "metadata": {},
   "outputs": [],
   "source": [
    "nIDP_numbers_analysis = nIDP_numbers[vars_analysis_indic]"
   ]
  },
  {
   "cell_type": "code",
   "execution_count": 25,
   "id": "f5d13479",
   "metadata": {},
   "outputs": [],
   "source": [
    "pd.DataFrame(nIDP_names_analysis).to_csv(my_directory +'nIDP_names_analysis.csv')"
   ]
  },
  {
   "cell_type": "code",
   "execution_count": 26,
   "id": "ff3d573b",
   "metadata": {},
   "outputs": [],
   "source": [
    "pd.DataFrame(nIDP_numbers_analysis).to_csv(my_directory +'nIDP_numbers_analysis.csv')"
   ]
  },
  {
   "cell_type": "code",
   "execution_count": 27,
   "id": "4a480764",
   "metadata": {},
   "outputs": [],
   "source": [
    "y_IDP = np.log(np.array(df['IDPs1'])[: , (np.array(df['IDP_names']) == 'IDP_T1_SIENAX_grey_normalised_volume').reshape(-1)])"
   ]
  },
  {
   "cell_type": "code",
   "execution_count": 28,
   "id": "0ec661f4",
   "metadata": {},
   "outputs": [],
   "source": [
    "y_missing_inds = np.isnan(y_IDP)"
   ]
  },
  {
   "cell_type": "code",
   "execution_count": 29,
   "id": "e8630d57",
   "metadata": {},
   "outputs": [
    {
     "data": {
      "text/plain": [
       "0.002948075143637968"
      ]
     },
     "execution_count": 29,
     "metadata": {},
     "output_type": "execute_result"
    }
   ],
   "source": [
    "np.mean(y_missing_inds)"
   ]
  },
  {
   "cell_type": "code",
   "execution_count": 30,
   "id": "dbf6c3e7",
   "metadata": {},
   "outputs": [],
   "source": [
    "y_IDP_comp = y_IDP[y_missing_inds == False]"
   ]
  },
  {
   "cell_type": "code",
   "execution_count": 31,
   "id": "c72a8dff",
   "metadata": {},
   "outputs": [],
   "source": [
    "X_nIDPs_analysis_comp = X_nIDPs_analysis[y_missing_inds.reshape(-1) == False , :]"
   ]
  },
  {
   "cell_type": "code",
   "execution_count": 32,
   "id": "d865cc15",
   "metadata": {},
   "outputs": [],
   "source": [
    "my_dict = {None:X_nIDPs_analysis_comp}\n",
    "pickle.dump(my_dict , open(my_directory + 'X_nIDPs_analysis_comp'+'.pkl', 'wb') , protocol = 4)"
   ]
  },
  {
   "cell_type": "code",
   "execution_count": 33,
   "id": "d8aac8c5",
   "metadata": {},
   "outputs": [],
   "source": [
    "pd.DataFrame(X_nIDPs_analysis_comp).to_csv(my_directory +'X_nIDPs_analysis_comp.gz')"
   ]
  },
  {
   "cell_type": "code",
   "execution_count": 31,
   "id": "63cc2125",
   "metadata": {},
   "outputs": [],
   "source": [
    "pd.DataFrame(y_IDP_comp).to_csv(my_directory +'y_IDP_comp.csv')"
   ]
  },
  {
   "cell_type": "code",
   "execution_count": 32,
   "id": "bc3b9a5c",
   "metadata": {},
   "outputs": [
    {
     "data": {
      "text/plain": [
       "(46334, 14500)"
      ]
     },
     "execution_count": 32,
     "metadata": {},
     "output_type": "execute_result"
    }
   ],
   "source": [
    "X_nIDPs_analysis_comp.shape"
   ]
  },
  {
   "cell_type": "code",
   "execution_count": 33,
   "id": "a2bcaf0c",
   "metadata": {},
   "outputs": [],
   "source": [
    "raw_corr_mat = pd.DataFrame(X_nIDPs_analysis_comp).corr().to_numpy()\n",
    "\n",
    "raw_corr_mat = SimpleImputer(strategy = 'constant' , fill_value = 0).fit_transform(raw_corr_mat)\n",
    "\n",
    "my_dict = {None:raw_corr_mat}\n",
    "\n",
    "pickle.dump(my_dict , open(my_directory + 'raw_corr_mat'+'.pkl', 'wb') , protocol = 4)"
   ]
  },
  {
   "cell_type": "code",
   "execution_count": null,
   "id": "d4620985",
   "metadata": {},
   "outputs": [],
   "source": []
  }
 ],
 "metadata": {
  "kernelspec": {
   "display_name": "Python 3 (ipykernel)",
   "language": "python",
   "name": "python3"
  },
  "language_info": {
   "codemirror_mode": {
    "name": "ipython",
    "version": 3
   },
   "file_extension": ".py",
   "mimetype": "text/x-python",
   "name": "python",
   "nbconvert_exporter": "python",
   "pygments_lexer": "ipython3",
   "version": "3.7.4"
  }
 },
 "nbformat": 4,
 "nbformat_minor": 5
}
