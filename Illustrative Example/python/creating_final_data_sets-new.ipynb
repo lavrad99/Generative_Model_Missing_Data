{
 "cells": [
  {
   "cell_type": "code",
   "execution_count": 1,
   "id": "8ee46aed",
   "metadata": {},
   "outputs": [],
   "source": [
    "import numpy as np\n",
    "import mat73\n",
    "import scipy\n",
    "from sklearn.cluster import AgglomerativeClustering\n",
    "from scipy.cluster.hierarchy import linkage\n",
    "from scipy.cluster.hierarchy import dendrogram\n",
    "from scipy.cluster.hierarchy import fcluster\n",
    "from matplotlib import pyplot as plt\n",
    "from scipy.spatial.distance import pdist\n",
    "import torch\n",
    "import pandas as pd\n",
    "import pickle\n",
    "from sklearn.impute import SimpleImputer\n",
    "from sklearn.linear_model import ElasticNet"
   ]
  },
  {
   "cell_type": "code",
   "execution_count": 2,
   "id": "3f83c767",
   "metadata": {},
   "outputs": [],
   "source": [
    "my_directory = ''"
   ]
  },
  {
   "cell_type": "code",
   "execution_count": 3,
   "id": "260137dc",
   "metadata": {},
   "outputs": [],
   "source": [
    "df = mat73.loadmat('workspace13d.mat')"
   ]
  },
  {
   "cell_type": "code",
   "execution_count": 4,
   "id": "7fd89c3e",
   "metadata": {},
   "outputs": [],
   "source": [
    "X_nIDPs = np.concatenate((np.concatenate((df['vars'] , df['sex12'].reshape(df['sex12'].shape[0],1)) , axis = 1) ,\n",
    "                          df['age1'].reshape(df['age1'].shape[0],1)**2) , axis = 1)"
   ]
  },
  {
   "cell_type": "code",
   "execution_count": 5,
   "id": "9d3fc253",
   "metadata": {},
   "outputs": [],
   "source": [
    "nIDP_numbers = np.concatenate((np.array(df['varsVARS']) , np.array(['0-0.0','1-0.0'])))"
   ]
  },
  {
   "cell_type": "code",
   "execution_count": 6,
   "id": "9f060439",
   "metadata": {},
   "outputs": [],
   "source": [
    "nIDP_names = np.concatenate((np.array(df['varsHeader']) , np.array(['sex','age_squared'])))"
   ]
  },
  {
   "cell_type": "code",
   "execution_count": 7,
   "id": "58313474",
   "metadata": {},
   "outputs": [],
   "source": [
    "y_IDP = np.log(np.array(df['IDPs1'])[: , (np.array(df['IDP_names']) == 'IDP_T1_SIENAX_grey_normalised_volume').reshape(-1)])\n",
    "\n",
    "y_missing_inds = np.isnan(y_IDP)\n",
    "\n",
    "y_IDP_comp = y_IDP[y_missing_inds == False]"
   ]
  },
  {
   "cell_type": "code",
   "execution_count": 8,
   "id": "2e704afc",
   "metadata": {},
   "outputs": [],
   "source": [
    "X_nIDPs_comp = X_nIDPs[y_missing_inds.reshape(-1) == False , :]"
   ]
  },
  {
   "cell_type": "code",
   "execution_count": 9,
   "id": "fb1bbbe3",
   "metadata": {},
   "outputs": [],
   "source": [
    "nums_to_names_dict = {'0':'sex', '1':'age_sq','137':'number_of_treatments', '1558':'alc_intake_freq', '1568':'avg_weekly_rw', \n",
    "                      '1588':'avg_weekly_beer_cider', '1797':'father_still_alive', '20002-1220.0':'diabetes_self_rep', \n",
    "                      '20002-1065.0':'hypertension_self_rp',\n",
    "                      '1835':'mother_still_alive', '20009':'age_first_non_cancer_disease', '20116':'smoking_status',\n",
    "                      '22671':'mean_carotid_IMT_120', '22674':'mean_carotid_IMT_150', '23101':'body_fat_free_mass',\n",
    "                      '23106':'impedance_whole_body', '23109':'impedance_right_arm','23113':'leg_fat_free_mass_r',\n",
    "                      '23121':'arm_fat_free_mass_r','23202':'L1_L4_average_width', '23213':'femur_MBD_T_score_r',\n",
    "                      '23293':'femur_MBD_T_score_l',\n",
    "                      '23301':'femur_wards_MBD_T_score_l','23305':'head_bone_area_bone_size', '23306':'head_BMC',\n",
    "                      '23323':'num_digit_matches_attp','23325':'femur_neck_bone_area_size_l','23326':'femur_neck_bone_area_size_r',\n",
    "                      '23342':'femur_wards_bone_area_r' , '2443':'diabetes_diagnosis',\n",
    "                      '23333':'femur_total_area_l', '23334':'femur_total_area_r','2345':'ever_bowel_cancer_screening',\n",
    "                      '30720':'cystatin_c', '30750':'glycated_haemoglobin',\n",
    "                      '4100':'ankle_spacing_width_l', '50':'standing_height', '6150-4.0':'high_blood_pressure',\n",
    "                      '4537':'job_satisfaction', '48':'waist_circumference', '699':'length_current_address',\n",
    "                      '23334':'femur_total_area_right','4080':'systolic_BP',\n",
    "                      '20003-1140868226.0':'treatment_aspirin', '20003-1140884600.0':'treatment_metformin',\n",
    "                      '41270-I10':'ICD10_hypertension_primary', '41270-E119':'ICD10_diabetes_primary',\n",
    "                      '41270-Z864':'ICD10_psychoactive_SA_primary',\n",
    "                      '41204-I10.secondary':'ICD10_hypertension_secondary',\n",
    "                      '41204-Z864.secondary':'ICD10_psychoactive_SA_secondary',\n",
    "                      '41204-Z921.secondary':'ICD10_antineoplastic_chemotherapy_secondary',\n",
    "                      '12143':'weight_pre_imaging','12144':'height_pre_imaging'\n",
    "                     }"
   ]
  },
  {
   "cell_type": "code",
   "execution_count": 10,
   "id": "781357af",
   "metadata": {},
   "outputs": [],
   "source": [
    "exceptions_list = ['20002-1220.0' , '20002-1065.0','20002-1220.0','20002-1065.0','6150-4.0',\n",
    "                  '20003-1140868226.0', '20003-1140884600.0', '41270-I10', '41270-E119',\n",
    "                  '41270-Z864','41204-I10.secondary','41204-Z864.secondary','41204-Z921.secondary']"
   ]
  },
  {
   "cell_type": "code",
   "execution_count": 91,
   "id": "bdc73b49",
   "metadata": {},
   "outputs": [
    {
     "name": "stdout",
     "output_type": "stream",
     "text": [
      "normalised_grey_matter_log                     0.000000\n",
      "townsend_indx                                  0.000928\n",
      "sex                                            0.000000\n",
      "age_sq                                         0.000000\n",
      "weight_pre_imaging                             0.000000\n",
      "height_pre_imaging                             0.000000\n",
      "hypertension_self_rp                           0.000000\n",
      "diabetes_self_rep                              0.000000\n",
      "treatment_aspirin                              0.000000\n",
      "treatment_metformin                            0.000000\n",
      "ICD10_hypertension_secondary                   0.000000\n",
      "ICD10_psychoactive_SA_secondary                0.000000\n",
      "ICD10_antineoplastic_chemotherapy_secondary    0.000000\n",
      "ICD10_diabetes_primary                         0.000000\n",
      "ICD10_hypertension_primary                     0.000000\n",
      "ICD10_psychoactive_SA_primary                  0.000000\n",
      "high_blood_pressure                            0.000000\n",
      "dtype: float64\n",
      "normalised_grey_matter_log     0.000000\n",
      "townsend_indx                  0.000928\n",
      "sex                            0.000000\n",
      "age_sq                         0.000000\n",
      "alc_intake_freq                0.000022\n",
      "smoking_status                 0.000216\n",
      "body_fat_free_mass             0.010014\n",
      "leg_fat_free_mass_r            0.001014\n",
      "arm_fat_free_mass_r            0.001036\n",
      "femur_wards_MBD_T_score_l      0.226702\n",
      "head_bone_area_bone_size       0.226097\n",
      "head_BMC                       0.232507\n",
      "femur_neck_bone_area_size_l    0.227284\n",
      "femur_total_area_right         0.255687\n",
      "ankle_spacing_width_l          0.231903\n",
      "waist_circumference            0.000022\n",
      "standing_height                0.000000\n",
      "dtype: float64\n",
      "normalised_grey_matter_log     0.000000\n",
      "townsend_indx                  0.000928\n",
      "sex                            0.000000\n",
      "age_sq                         0.000000\n",
      "number_of_treatments           0.000043\n",
      "alc_intake_freq                0.000022\n",
      "smoking_status                 0.000216\n",
      "body_fat_free_mass             0.010014\n",
      "arm_fat_free_mass_r            0.001036\n",
      "L1_L4_average_width            0.264061\n",
      "head_bone_area_bone_size       0.226097\n",
      "femur_neck_bone_area_size_l    0.227284\n",
      "femur_neck_bone_area_size_r    0.254111\n",
      "femur_total_area_l             0.228601\n",
      "femur_total_area_right         0.255687\n",
      "ankle_spacing_width_l          0.231903\n",
      "waist_circumference            0.000022\n",
      "dtype: float64\n",
      "normalised_grey_matter_log     0.000000\n",
      "townsend_indx                  0.000928\n",
      "sex                            0.000000\n",
      "age_sq                         0.000000\n",
      "number_of_treatments           0.000043\n",
      "avg_weekly_rw                  0.194566\n",
      "avg_weekly_beer_cider          0.194458\n",
      "smoking_status                 0.000216\n",
      "body_fat_free_mass             0.010014\n",
      "femur_wards_MBD_T_score_l      0.226702\n",
      "head_bone_area_bone_size       0.226097\n",
      "head_BMC                       0.232507\n",
      "femur_neck_bone_area_size_l    0.227284\n",
      "diabetes_diagnosis             0.000086\n",
      "ankle_spacing_width_l          0.231903\n",
      "waist_circumference            0.000022\n",
      "standing_height                0.000000\n",
      "dtype: float64\n"
     ]
    }
   ],
   "source": [
    "for n_vars in [15]:\n",
    "    for method in ['CompVars' , 'mean','SoftImpute','IterativeImputer']:\n",
    "        my_vars= pd.read_csv(my_directory+\"selected_var_numbers_unique_\"+method+\"_LASSO_\"+str(n_vars)+\".csv\").to_numpy()[: , 1].reshape(-1)\n",
    "        my_cols = ['normalised_grey_matter_log', 'townsend_indx']+[nums_to_names_dict[str(v)] for v in my_vars]\n",
    "        my_df = pd.DataFrame(np.full((y_IDP_comp.shape[0],2+n_vars) , np.nan) ,\n",
    "                          columns=my_cols)\n",
    "        my_df['normalised_grey_matter_log'] = y_IDP_comp\n",
    "        my_df['townsend_indx'] = X_nIDPs_comp[: , nIDP_names == 'Townsend deprivation index at recruitment (0.0)'].reshape(-1)\n",
    "        for i in range(n_vars):\n",
    "            if str(my_vars[i]) in exceptions_list:\n",
    "                my_vals = X_nIDPs_comp[: , my_vars[i] == nIDP_numbers].reshape(-1)\n",
    "                my_entries = np.logical_and(np.isnan(my_vals) == False , np.isnan(my_df.iloc[: , i+2]) == True)\n",
    "                my_df.iloc[my_entries , i+2] = my_vals[my_entries]\n",
    "            else:\n",
    "                for ending in ['-2.0' , '-1.0' , '-0.0']:\n",
    "                    my_string = str(my_vars[i])+ending\n",
    "                    if my_string in nIDP_numbers:\n",
    "                        my_vals = X_nIDPs_comp[: , my_string == nIDP_numbers].reshape(-1)\n",
    "                        my_entries = np.logical_and(np.isnan(my_vals) == False , np.isnan(my_df.iloc[: , i+2]) == True)\n",
    "                        my_df.iloc[my_entries , i+2] = my_vals[my_entries]\n",
    "        \n",
    "        print(np.isnan(my_df).mean(axis = 0))\n",
    "        my_df.to_csv(my_directory+'final_df_'+method+'_'+str(n_vars)+'.csv')\n",
    "\n",
    "\n",
    "\n",
    "\n",
    "        "
   ]
  }
 ],
 "metadata": {
  "kernelspec": {
   "display_name": "Python 3 (ipykernel)",
   "language": "python",
   "name": "python3"
  },
  "language_info": {
   "codemirror_mode": {
    "name": "ipython",
    "version": 3
   },
   "file_extension": ".py",
   "mimetype": "text/x-python",
   "name": "python",
   "nbconvert_exporter": "python",
   "pygments_lexer": "ipython3",
   "version": "3.7.4"
  }
 },
 "nbformat": 4,
 "nbformat_minor": 5
}
